{
 "cells": [
  {
   "cell_type": "code",
   "execution_count": 1,
   "metadata": {},
   "outputs": [],
   "source": [
    "from coroutine import coroutine\n",
    "from reg import Reg\n",
    "\n",
    "@coroutine\n",
    "def TFF():\n",
    "    reg = Reg()\n",
    "    O = reg.value\n",
    "    while True:\n",
    "        I = yield\n",
    "        O = reg.value\n",
    "        reg.send(I ^ O)\n",
    "\n",
    "tff = TFF()\n",
    "tff_waveform = []\n",
    "for bit in [1, 1, 1, 0, 0, 0, 1, 0, 1, 0, 0, 1, 1, 1]:\n",
    "    tff.send(bit)\n",
    "    tff_waveform.append([bit, tff.O, True])\n",
    "    tff_waveform.append([bit, tff.O, False])"
   ]
  },
  {
   "cell_type": "code",
   "execution_count": 2,
   "metadata": {},
   "outputs": [
    {
     "data": {
      "image/png": "[encoded data removed]",
      "text/plain": [
       "<matplotlib.figure.Figure at 0x10734e908>"
      ]
     },
     "metadata": {},
     "output_type": "display_data"
    }
   ],
   "source": [
    "from magma.waveform import waveform\n",
    "waveform(tff_waveform, [\"I\", \"O\", \"clk\"])"
   ]
  },
  {
   "cell_type": "code",
   "execution_count": null,
   "metadata": {
    "collapsed": true
   },
   "outputs": [],
   "source": []
  }
 ],
 "metadata": {
  "kernelspec": {
   "display_name": "Python 3",
   "language": "python",
   "name": "python3"
  },
  "language_info": {
   "codemirror_mode": {
    "name": "ipython",
    "version": 3
   },
   "file_extension": ".py",
   "mimetype": "text/x-python",
   "name": "python",
   "nbconvert_exporter": "python",
   "pygments_lexer": "ipython3",
   "version": "3.6.1"
  }
 },
 "nbformat": 4,
 "nbformat_minor": 2
}
